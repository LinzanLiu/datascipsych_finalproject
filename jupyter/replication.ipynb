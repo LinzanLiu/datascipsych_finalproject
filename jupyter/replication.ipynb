{
 "cells": [
  {
   "cell_type": "markdown",
   "id": "f7ba2bb7",
   "metadata": {},
   "source": [
    "## Introduction\n",
    "\n",
    "\n",
    "\n",
    "Memory judgments in item recognition tests can be influenced by familiarity-based processes like processing fluency. While traditional accounts of source memory suggest minimal impact of familiarity, recent work indicates that source memory judgments can be affected when test stimuli are processed with greater fluency due to priming. The experiments in this paper investigated the relationship between fluency and the accuracy of source memory decisions.   \n",
    "\n",
    "This analysis reproduces the findings from Experiment 1 of Huang and Shanks (2021), which aimed to investigate how fluency relates to source memory responses, including the more commonly used R/K or R/K/G responses. Another goal was to address the lack of research on memory involving multiple source attributes crossed at encoding and jointly retrieved. Participants studied words presented with different source attributes (font size and location). During testing, they identified words that clarified on screen through progressive demasking (CID-R task), made old/new and source memory judgments, and provided confidence ratings. Identification response times (RTs) from the item identification task were used as a measure of fluency."
   ]
  },
  {
   "cell_type": "markdown",
   "id": "d7ff3d72",
   "metadata": {},
   "source": [
    "## Result"
   ]
  },
  {
   "cell_type": "code",
   "execution_count": 27,
   "id": "131548ec",
   "metadata": {},
   "outputs": [],
   "source": [
    "import polars as pl\n",
    "import pandas as pd\n",
    "import numpy as np\n",
    "import matplotlib.pyplot as plt\n",
    "import seaborn as sns\n",
    "import scipy.stats as stats\n",
    "import pingouin as pg\n",
    "import sys\n",
    "sys.path.append(\"../src/project\")\n",
    "from task import load_and_preprocess_data, calculate_correctness, calculate_recognition_rates, bar_plot"
   ]
  },
  {
   "cell_type": "markdown",
   "id": "3f3c7a55",
   "metadata": {},
   "source": [
    "Load the dataset and perform data preprocessing"
   ]
  },
  {
   "cell_type": "code",
   "execution_count": 28,
   "id": "660b744b",
   "metadata": {},
   "outputs": [
    {
     "data": {
      "text/html": [
       "<div>\n",
       "<style scoped>\n",
       "    .dataframe tbody tr th:only-of-type {\n",
       "        vertical-align: middle;\n",
       "    }\n",
       "\n",
       "    .dataframe tbody tr th {\n",
       "        vertical-align: top;\n",
       "    }\n",
       "\n",
       "    .dataframe thead th {\n",
       "        text-align: right;\n",
       "    }\n",
       "</style>\n",
       "<table border=\"1\" class=\"dataframe\">\n",
       "  <thead>\n",
       "    <tr style=\"text-align: right;\">\n",
       "      <th></th>\n",
       "      <th>Subject</th>\n",
       "      <th>Subj/Trial Number</th>\n",
       "      <th>TestTrialNum</th>\n",
       "      <th>Stimuli</th>\n",
       "      <th>idRespTime</th>\n",
       "      <th>ItemRecognResp</th>\n",
       "      <th>SourceSizeResp</th>\n",
       "      <th>SourceLocResp</th>\n",
       "      <th>ItemStatus</th>\n",
       "      <th>OldNewItemResp</th>\n",
       "      <th>ItemRecogStatus</th>\n",
       "      <th>SourceEncodingSize</th>\n",
       "      <th>SourceEncodingLoc</th>\n",
       "      <th>SourceConfidence_absSum</th>\n",
       "      <th>SourceCorrect</th>\n",
       "      <th>idRespTime_ms</th>\n",
       "      <th>size_correct</th>\n",
       "      <th>loc_correct</th>\n",
       "      <th>correct_sources</th>\n",
       "    </tr>\n",
       "  </thead>\n",
       "  <tbody>\n",
       "    <tr>\n",
       "      <th>0</th>\n",
       "      <td>P01</td>\n",
       "      <td>P01_10</td>\n",
       "      <td>10</td>\n",
       "      <td>tank</td>\n",
       "      <td>1.847444</td>\n",
       "      <td>Guess</td>\n",
       "      <td>0.0</td>\n",
       "      <td>0.0</td>\n",
       "      <td>lure</td>\n",
       "      <td>old</td>\n",
       "      <td>FalseAlarm</td>\n",
       "      <td>None</td>\n",
       "      <td>None</td>\n",
       "      <td>0.0</td>\n",
       "      <td>NaN</td>\n",
       "      <td>1847.443705</td>\n",
       "      <td>0</td>\n",
       "      <td>0</td>\n",
       "      <td>0</td>\n",
       "    </tr>\n",
       "    <tr>\n",
       "      <th>1</th>\n",
       "      <td>P01</td>\n",
       "      <td>P01_100</td>\n",
       "      <td>100</td>\n",
       "      <td>lace</td>\n",
       "      <td>1.430649</td>\n",
       "      <td>Know</td>\n",
       "      <td>3.0</td>\n",
       "      <td>3.0</td>\n",
       "      <td>target</td>\n",
       "      <td>old</td>\n",
       "      <td>Hit</td>\n",
       "      <td>small</td>\n",
       "      <td>upper</td>\n",
       "      <td>6.0</td>\n",
       "      <td>1.0</td>\n",
       "      <td>1430.648669</td>\n",
       "      <td>0</td>\n",
       "      <td>1</td>\n",
       "      <td>1</td>\n",
       "    </tr>\n",
       "    <tr>\n",
       "      <th>2</th>\n",
       "      <td>P01</td>\n",
       "      <td>P01_101</td>\n",
       "      <td>101</td>\n",
       "      <td>newt</td>\n",
       "      <td>1.847070</td>\n",
       "      <td>Guess</td>\n",
       "      <td>1.0</td>\n",
       "      <td>1.0</td>\n",
       "      <td>lure</td>\n",
       "      <td>old</td>\n",
       "      <td>FalseAlarm</td>\n",
       "      <td>None</td>\n",
       "      <td>None</td>\n",
       "      <td>2.0</td>\n",
       "      <td>NaN</td>\n",
       "      <td>1847.070295</td>\n",
       "      <td>0</td>\n",
       "      <td>0</td>\n",
       "      <td>0</td>\n",
       "    </tr>\n",
       "    <tr>\n",
       "      <th>3</th>\n",
       "      <td>P01</td>\n",
       "      <td>P01_102</td>\n",
       "      <td>102</td>\n",
       "      <td>kick</td>\n",
       "      <td>0.863761</td>\n",
       "      <td>Remember</td>\n",
       "      <td>4.0</td>\n",
       "      <td>4.0</td>\n",
       "      <td>target</td>\n",
       "      <td>old</td>\n",
       "      <td>Hit</td>\n",
       "      <td>small</td>\n",
       "      <td>lower</td>\n",
       "      <td>8.0</td>\n",
       "      <td>0.0</td>\n",
       "      <td>863.761488</td>\n",
       "      <td>0</td>\n",
       "      <td>0</td>\n",
       "      <td>0</td>\n",
       "    </tr>\n",
       "    <tr>\n",
       "      <th>4</th>\n",
       "      <td>P01</td>\n",
       "      <td>P01_103</td>\n",
       "      <td>103</td>\n",
       "      <td>quart</td>\n",
       "      <td>1.147339</td>\n",
       "      <td>New</td>\n",
       "      <td>NaN</td>\n",
       "      <td>NaN</td>\n",
       "      <td>lure</td>\n",
       "      <td>old</td>\n",
       "      <td>CorrectRej</td>\n",
       "      <td>None</td>\n",
       "      <td>None</td>\n",
       "      <td>NaN</td>\n",
       "      <td>NaN</td>\n",
       "      <td>1147.339108</td>\n",
       "      <td>0</td>\n",
       "      <td>0</td>\n",
       "      <td>0</td>\n",
       "    </tr>\n",
       "  </tbody>\n",
       "</table>\n",
       "</div>"
      ],
      "text/plain": [
       "  Subject Subj/Trial Number  TestTrialNum Stimuli  idRespTime ItemRecognResp  \\\n",
       "0     P01            P01_10            10    tank    1.847444          Guess   \n",
       "1     P01           P01_100           100    lace    1.430649           Know   \n",
       "2     P01           P01_101           101    newt    1.847070          Guess   \n",
       "3     P01           P01_102           102    kick    0.863761       Remember   \n",
       "4     P01           P01_103           103   quart    1.147339            New   \n",
       "\n",
       "   SourceSizeResp  SourceLocResp ItemStatus OldNewItemResp ItemRecogStatus  \\\n",
       "0             0.0            0.0       lure            old      FalseAlarm   \n",
       "1             3.0            3.0     target            old             Hit   \n",
       "2             1.0            1.0       lure            old      FalseAlarm   \n",
       "3             4.0            4.0     target            old             Hit   \n",
       "4             NaN            NaN       lure            old      CorrectRej   \n",
       "\n",
       "  SourceEncodingSize SourceEncodingLoc  SourceConfidence_absSum  \\\n",
       "0               None              None                      0.0   \n",
       "1              small             upper                      6.0   \n",
       "2               None              None                      2.0   \n",
       "3              small             lower                      8.0   \n",
       "4               None              None                      NaN   \n",
       "\n",
       "   SourceCorrect  idRespTime_ms  size_correct  loc_correct  correct_sources  \n",
       "0            NaN    1847.443705             0            0                0  \n",
       "1            1.0    1430.648669             0            1                1  \n",
       "2            NaN    1847.070295             0            0                0  \n",
       "3            0.0     863.761488             0            0                0  \n",
       "4            NaN    1147.339108             0            0                0  "
      ]
     },
     "execution_count": 28,
     "metadata": {},
     "output_type": "execute_result"
    }
   ],
   "source": [
    "# Load and preprocess the data\n",
    "file_path = \"../src/project/data/data_expt1.csv\"\n",
    "df = load_and_preprocess_data(file_path)\n",
    "\n",
    "# Calculate correctness columns\n",
    "df = calculate_correctness(df)\n",
    "df.head(5)"
   ]
  },
  {
   "cell_type": "markdown",
   "id": "fbac214e",
   "metadata": {},
   "source": [
    "### Recognition Memory Analysis"
   ]
  },
  {
   "cell_type": "markdown",
   "id": "5544082a",
   "metadata": {},
   "source": [
    "Calculate hit rate and false alarm rate"
   ]
  },
  {
   "cell_type": "code",
   "execution_count": 29,
   "id": "a0e53ee2",
   "metadata": {},
   "outputs": [
    {
     "name": "stdout",
     "output_type": "stream",
     "text": [
      "Hit rate: 0.80\n",
      "False alarm rate: 0.25\n"
     ]
    }
   ],
   "source": [
    "# Calculate recognition rates\n",
    "recognition_metrics = calculate_recognition_rates(df)\n",
    "\n",
    "# Print the results\n",
    "print(f\"Hit rate: {recognition_metrics['hit_rate']:.2f}\")\n",
    "print(f\"False alarm rate: {recognition_metrics['fa_rate']:.2f}\")"
   ]
  },
  {
   "cell_type": "markdown",
   "id": "27f5db7c",
   "metadata": {},
   "source": [
    "Hit rate and False alarm matched the paper. Test trials receiving R, K and G were considered as ‘old’ responses. Across all valid test trials, the hit rate\n",
    " was 0.80 and the false alarm rate was 0.25."
   ]
  },
  {
   "cell_type": "markdown",
   "id": "f1a69824",
   "metadata": {},
   "source": [
    "### Figure 2(a) Mean item identification RTs (ms) for hits, misses, false alarms and correct rejections in Experiment 1. "
   ]
  },
  {
   "cell_type": "markdown",
   "id": "11d16ef2",
   "metadata": {},
   "source": [
    "### A two-way repeated-measures ANOVA for subjective old/new judgements and actual old/new status"
   ]
  },
  {
   "cell_type": "code",
   "execution_count": 30,
   "id": "c67fb844",
   "metadata": {},
   "outputs": [
    {
     "data": {
      "text/html": [
       "<div>\n",
       "<style scoped>\n",
       "    .dataframe tbody tr th:only-of-type {\n",
       "        vertical-align: middle;\n",
       "    }\n",
       "\n",
       "    .dataframe tbody tr th {\n",
       "        vertical-align: top;\n",
       "    }\n",
       "\n",
       "    .dataframe thead th {\n",
       "        text-align: right;\n",
       "    }\n",
       "</style>\n",
       "<table border=\"1\" class=\"dataframe\">\n",
       "  <thead>\n",
       "    <tr style=\"text-align: right;\">\n",
       "      <th></th>\n",
       "      <th>Subject</th>\n",
       "      <th>ActualStatus</th>\n",
       "      <th>SubjectiveJudgment</th>\n",
       "      <th>RT</th>\n",
       "    </tr>\n",
       "  </thead>\n",
       "  <tbody>\n",
       "    <tr>\n",
       "      <th>0</th>\n",
       "      <td>P01</td>\n",
       "      <td>old</td>\n",
       "      <td>old</td>\n",
       "      <td>1.562866</td>\n",
       "    </tr>\n",
       "    <tr>\n",
       "      <th>1</th>\n",
       "      <td>P01</td>\n",
       "      <td>old</td>\n",
       "      <td>new</td>\n",
       "      <td>1.805594</td>\n",
       "    </tr>\n",
       "    <tr>\n",
       "      <th>2</th>\n",
       "      <td>P01</td>\n",
       "      <td>new</td>\n",
       "      <td>old</td>\n",
       "      <td>1.651807</td>\n",
       "    </tr>\n",
       "    <tr>\n",
       "      <th>3</th>\n",
       "      <td>P01</td>\n",
       "      <td>new</td>\n",
       "      <td>new</td>\n",
       "      <td>1.867235</td>\n",
       "    </tr>\n",
       "    <tr>\n",
       "      <th>4</th>\n",
       "      <td>P02</td>\n",
       "      <td>old</td>\n",
       "      <td>old</td>\n",
       "      <td>1.943703</td>\n",
       "    </tr>\n",
       "    <tr>\n",
       "      <th>5</th>\n",
       "      <td>P02</td>\n",
       "      <td>old</td>\n",
       "      <td>new</td>\n",
       "      <td>2.126515</td>\n",
       "    </tr>\n",
       "    <tr>\n",
       "      <th>6</th>\n",
       "      <td>P02</td>\n",
       "      <td>new</td>\n",
       "      <td>old</td>\n",
       "      <td>2.254151</td>\n",
       "    </tr>\n",
       "    <tr>\n",
       "      <th>7</th>\n",
       "      <td>P02</td>\n",
       "      <td>new</td>\n",
       "      <td>new</td>\n",
       "      <td>2.390542</td>\n",
       "    </tr>\n",
       "    <tr>\n",
       "      <th>8</th>\n",
       "      <td>P03</td>\n",
       "      <td>old</td>\n",
       "      <td>old</td>\n",
       "      <td>1.065763</td>\n",
       "    </tr>\n",
       "    <tr>\n",
       "      <th>9</th>\n",
       "      <td>P03</td>\n",
       "      <td>old</td>\n",
       "      <td>new</td>\n",
       "      <td>1.116247</td>\n",
       "    </tr>\n",
       "  </tbody>\n",
       "</table>\n",
       "</div>"
      ],
      "text/plain": [
       "  Subject ActualStatus SubjectiveJudgment        RT\n",
       "0     P01          old                old  1.562866\n",
       "1     P01          old                new  1.805594\n",
       "2     P01          new                old  1.651807\n",
       "3     P01          new                new  1.867235\n",
       "4     P02          old                old  1.943703\n",
       "5     P02          old                new  2.126515\n",
       "6     P02          new                old  2.254151\n",
       "7     P02          new                new  2.390542\n",
       "8     P03          old                old  1.065763\n",
       "9     P03          old                new  1.116247"
      ]
     },
     "execution_count": 30,
     "metadata": {},
     "output_type": "execute_result"
    }
   ],
   "source": [
    "# Prepare data for ANOVA\n",
    "anova_data = []\n",
    "for subject in df['Subject'].unique():# Calculate mean RTs for each subject across the four conditions\n",
    "    # For Hits: actual=old, judged=old\n",
    "    hit_rt = df[(df['Subject'] == subject) & (df['ItemRecogStatus'] == 'Hit')]['idRespTime'].mean()\n",
    "    \n",
    "    # For Misses: actual=old, judged=new\n",
    "    miss_rt = df[(df['Subject'] == subject) & (df['ItemRecogStatus'] == 'Miss')]['idRespTime'].mean()\n",
    "    \n",
    "    # For False Alarms: actual=new, judged=old\n",
    "    fa_rt = df[(df['Subject'] == subject) & (df['ItemRecogStatus'] == 'FalseAlarm')]['idRespTime'].mean()\n",
    "    \n",
    "    # For Correct Rejections: actual=new, judged=new\n",
    "    cr_rt = df[(df['Subject'] == subject) & (df['ItemRecogStatus'] == 'CorrectRej')]['idRespTime'].mean()\n",
    "    \n",
    "    # Actual old\n",
    "    if not np.isnan(hit_rt):\n",
    "        anova_data.append({'Subject': subject, 'ActualStatus': 'old', 'SubjectiveJudgment': 'old', 'RT': hit_rt})\n",
    "    if not np.isnan(miss_rt):\n",
    "        anova_data.append({'Subject': subject, 'ActualStatus': 'old', 'SubjectiveJudgment': 'new', 'RT': miss_rt})\n",
    "    \n",
    "    # Actual new\n",
    "    if not np.isnan(fa_rt):\n",
    "        anova_data.append({'Subject': subject, 'ActualStatus': 'new', 'SubjectiveJudgment': 'old', 'RT': fa_rt})\n",
    "    if not np.isnan(cr_rt):\n",
    "        anova_data.append({'Subject': subject, 'ActualStatus': 'new', 'SubjectiveJudgment': 'new', 'RT': cr_rt})\n",
    "\n",
    "# Convert to DataFrame for ANOVA\n",
    "anova_df = pd.DataFrame(anova_data)\n",
    "anova_df.head(10)"
   ]
  },
  {
   "cell_type": "markdown",
   "id": "2f719fc9",
   "metadata": {},
   "source": [
    "The initial step processes experimental data from Experiment 1, extracting reaction times for each subject across four recognition conditions:\n",
    "\n",
    "Hits: old items correctly identified as \"old\"<br>\n",
    "Misses: old items incorrectly identified as \"new\"<br>\n",
    "False Alarms: new items incorrectly identified as \"old\"<br>\n",
    "Correct Rejections: new items correctly identified as \"new\""
   ]
  },
  {
   "cell_type": "markdown",
   "id": "b9c95ae9",
   "metadata": {},
   "source": [
    "### Check data completeness"
   ]
  },
  {
   "cell_type": "code",
   "execution_count": 31,
   "id": "25c35bf7",
   "metadata": {},
   "outputs": [
    {
     "name": "stdout",
     "output_type": "stream",
     "text": [
      "Number of subjects with complete data: 46\n"
     ]
    }
   ],
   "source": [
    "subject_counts = anova_df.groupby('Subject').size()\n",
    "complete_subjects = subject_counts[subject_counts == 4].index\n",
    "print(f\"Number of subjects with complete data: {len(complete_subjects)}\")"
   ]
  },
  {
   "cell_type": "markdown",
   "id": "f0bae949",
   "metadata": {},
   "source": [
    "### Run the two-way repeated-measures ANOVA"
   ]
  },
  {
   "cell_type": "code",
   "execution_count": 32,
   "id": "60db7d09",
   "metadata": {},
   "outputs": [
    {
     "name": "stderr",
     "output_type": "stream",
     "text": [
      "d:\\Ananconda\\lib\\site-packages\\pingouin\\distribution.py:507: FutureWarning: DataFrame.groupby with axis=1 is deprecated. Do `frame.T.groupby(...)` without axis instead.\n",
      "  data.groupby(level=1, axis=1, observed=True, group_keys=False)\n",
      "d:\\Ananconda\\lib\\site-packages\\pingouin\\distribution.py:507: FutureWarning: DataFrameGroupBy.diff with axis=1 is deprecated and will be removed in a future version. Operate on the un-grouped DataFrame instead\n",
      "  data.groupby(level=1, axis=1, observed=True, group_keys=False)\n"
     ]
    },
    {
     "data": {
      "text/html": [
       "<div>\n",
       "<style scoped>\n",
       "    .dataframe tbody tr th:only-of-type {\n",
       "        vertical-align: middle;\n",
       "    }\n",
       "\n",
       "    .dataframe tbody tr th {\n",
       "        vertical-align: top;\n",
       "    }\n",
       "\n",
       "    .dataframe thead th {\n",
       "        text-align: right;\n",
       "    }\n",
       "</style>\n",
       "<table border=\"1\" class=\"dataframe\">\n",
       "  <thead>\n",
       "    <tr style=\"text-align: right;\">\n",
       "      <th></th>\n",
       "      <th>Source</th>\n",
       "      <th>SS</th>\n",
       "      <th>ddof1</th>\n",
       "      <th>ddof2</th>\n",
       "      <th>MS</th>\n",
       "      <th>F</th>\n",
       "      <th>p-unc</th>\n",
       "      <th>p-GG-corr</th>\n",
       "      <th>ng2</th>\n",
       "      <th>eps</th>\n",
       "    </tr>\n",
       "  </thead>\n",
       "  <tbody>\n",
       "    <tr>\n",
       "      <th>0</th>\n",
       "      <td>ActualStatus</td>\n",
       "      <td>1.6884</td>\n",
       "      <td>1</td>\n",
       "      <td>45</td>\n",
       "      <td>1.6884</td>\n",
       "      <td>57.0000</td>\n",
       "      <td>0.0000</td>\n",
       "      <td>0.0000</td>\n",
       "      <td>0.0644</td>\n",
       "      <td>1.0</td>\n",
       "    </tr>\n",
       "    <tr>\n",
       "      <th>1</th>\n",
       "      <td>SubjectiveJudgment</td>\n",
       "      <td>0.4534</td>\n",
       "      <td>1</td>\n",
       "      <td>45</td>\n",
       "      <td>0.4534</td>\n",
       "      <td>7.8244</td>\n",
       "      <td>0.0076</td>\n",
       "      <td>0.0076</td>\n",
       "      <td>0.0181</td>\n",
       "      <td>1.0</td>\n",
       "    </tr>\n",
       "    <tr>\n",
       "      <th>2</th>\n",
       "      <td>ActualStatus * SubjectiveJudgment</td>\n",
       "      <td>0.0046</td>\n",
       "      <td>1</td>\n",
       "      <td>45</td>\n",
       "      <td>0.0046</td>\n",
       "      <td>0.1380</td>\n",
       "      <td>0.7120</td>\n",
       "      <td>0.7120</td>\n",
       "      <td>0.0002</td>\n",
       "      <td>1.0</td>\n",
       "    </tr>\n",
       "  </tbody>\n",
       "</table>\n",
       "</div>"
      ],
      "text/plain": [
       "                              Source      SS  ddof1  ddof2      MS        F  \\\n",
       "0                       ActualStatus  1.6884      1     45  1.6884  57.0000   \n",
       "1                 SubjectiveJudgment  0.4534      1     45  0.4534   7.8244   \n",
       "2  ActualStatus * SubjectiveJudgment  0.0046      1     45  0.0046   0.1380   \n",
       "\n",
       "    p-unc  p-GG-corr     ng2  eps  \n",
       "0  0.0000     0.0000  0.0644  1.0  \n",
       "1  0.0076     0.0076  0.0181  1.0  \n",
       "2  0.7120     0.7120  0.0002  1.0  "
      ]
     },
     "execution_count": 32,
     "metadata": {},
     "output_type": "execute_result"
    }
   ],
   "source": [
    "aov1 = pg.rm_anova(\n",
    "    data=anova_df,\n",
    "    dv='RT',\n",
    "    within=['ActualStatus', 'SubjectiveJudgment'],\n",
    "    subject='Subject',\n",
    "    detailed=True\n",
    ").round(4)\n",
    "\n",
    "aov1"
   ]
  },
  {
   "cell_type": "markdown",
   "id": "ce40cd89",
   "metadata": {},
   "source": [
    "The two-way repeated-measures ANOVA results showed:\n",
    "\n",
    "Main effect of actual status (old vs. new): F(1, 45) = 57.00, p < 0.0001, η²p = 0.0644\n",
    "\n",
    "Main effect of subjective judgment (judged old vs. judged new): F(1, 45) = 7.82, p = 0.0076, η²p = 0.0181\n",
    "\n",
    "No significant interaction: F(1, 45) = 0.14, p = 0.712, η²p = 0.0002"
   ]
  },
  {
   "cell_type": "markdown",
   "id": "0401e264",
   "metadata": {},
   "source": [
    "### Visualization"
   ]
  },
  {
   "cell_type": "code",
   "execution_count": 33,
   "id": "6ee89d9c",
   "metadata": {},
   "outputs": [
    {
     "data": {
      "image/png": "[encoded data removed]",
      "text/plain": [
       "<Figure size 720x432 with 1 Axes>"
      ]
     },
     "metadata": {
      "needs_background": "light"
     },
     "output_type": "display_data"
    }
   ],
   "source": [
    "item_recog_categories = ['Hit', 'Miss', 'FalseAlarm', 'CorrectRej']\n",
    "display_labels = ['hit', 'miss', 'false alarm', 'correct rejection']\n",
    "\n",
    "# Calculate means and errors\n",
    "means = [df[df['ItemRecogStatus'] == cat]['idRespTime_ms'].mean() for cat in item_recog_categories]\n",
    "errors = [1.96 * df[df['ItemRecogStatus'] == cat]['idRespTime_ms'].sem() for cat in item_recog_categories]\n",
    "\n",
    "# Create plot\n",
    "fig, ax = bar_plot(\n",
    "    means=means,\n",
    "    errors=errors,\n",
    "    x_labels=display_labels,\n",
    "    title='Figure 2(a): Mean item identification RTs by recognition category',\n",
    "    xlabel='item recognition category',\n",
    "    ylabel='mean RT (ms)',\n",
    "    filename='figure_2a.png',\n",
    "    show_values=True,\n",
    "    show_error=True, \n",
    "    y_range=(1000, 2000)\n",
    ")"
   ]
  },
  {
   "cell_type": "markdown",
   "id": "ce865f3f",
   "metadata": {},
   "source": [
    "The bar chart visualization reproduces Figure 2(a) from the paper, showing mean identification RTs across the four recognition categories with 95% confidence intervals."
   ]
  },
  {
   "cell_type": "markdown",
   "id": "f8139788",
   "metadata": {},
   "source": [
    "## Conclusion for Figure 2(a)\n",
    "\n",
    "The analysis reveals two significant main effects:\n",
    "1. **Actual status effect**: F(1,45) = 57.00, p < 0.0001, η²p = 0.064\n",
    "2. **Subjective judgment effect**: F(1,45) = 7.82, p = 0.0076, η²p = 0.018\n",
    "\n",
    "This pattern suggests that both the actual status of items and participants' subjective judgments influence processing fluency, as measured by identification RTs. Items judged as \"old\" were identified more quickly than those judged as \"new,\" regardless of their actual status, supporting the paper's hypothesis that familiarity-based processes are related to recognition memory performance. The faster response times for hits compared to correct rejections suggest that previously studied items benefit from perceptual fluency, making them easier and faster to identify.\n",
    "\n",
    "The non-significant interaction F(1,45) = 0.14, p = 0.71, indicating that the effect of subjective judgment on identification RTs is similar for both old and new items, consistent with a signal-detection account of recognition memory.\n",
    "\n",
    "\n",
    "The visualization shows a systematic pattern of identification RTs across recognition categories, with hits being identified fastest (1553.9 $\\pm$ 25.3ms), followed by misses (1647 $\\pm$ 55.5ms), false alarms (1759.8 $\\pm$ 45.2ms), and correct rejections (1832.9 $\\pm$ 28.4ms). This pattern matches the shown figure in the paper, indicating that correct recognition of old items (hits) is associated with the fastest identification times, while correctly rejecting new items takes the longest.\n"
   ]
  },
  {
   "cell_type": "markdown",
   "id": "fbb0db87",
   "metadata": {},
   "source": [
    "## Figure 2(b) Mean identification RTs for item hit trials according to ‘remember’, ‘know’, ‘guess’ and ‘new’ response categories.\n"
   ]
  },
  {
   "cell_type": "markdown",
   "id": "22b60294",
   "metadata": {},
   "source": [
    "### Filter hit trials and prepare data"
   ]
  },
  {
   "cell_type": "code",
   "execution_count": 34,
   "id": "7e097853",
   "metadata": {},
   "outputs": [
    {
     "data": {
      "text/html": [
       "<div>\n",
       "<style scoped>\n",
       "    .dataframe tbody tr th:only-of-type {\n",
       "        vertical-align: middle;\n",
       "    }\n",
       "\n",
       "    .dataframe tbody tr th {\n",
       "        vertical-align: top;\n",
       "    }\n",
       "\n",
       "    .dataframe thead th {\n",
       "        text-align: right;\n",
       "    }\n",
       "</style>\n",
       "<table border=\"1\" class=\"dataframe\">\n",
       "  <thead>\n",
       "    <tr style=\"text-align: right;\">\n",
       "      <th></th>\n",
       "      <th>Subject</th>\n",
       "      <th>ResponseType</th>\n",
       "      <th>RT</th>\n",
       "    </tr>\n",
       "  </thead>\n",
       "  <tbody>\n",
       "    <tr>\n",
       "      <th>0</th>\n",
       "      <td>P01</td>\n",
       "      <td>Remember</td>\n",
       "      <td>1.436146</td>\n",
       "    </tr>\n",
       "    <tr>\n",
       "      <th>1</th>\n",
       "      <td>P01</td>\n",
       "      <td>Know</td>\n",
       "      <td>1.673217</td>\n",
       "    </tr>\n",
       "    <tr>\n",
       "      <th>2</th>\n",
       "      <td>P01</td>\n",
       "      <td>Guess</td>\n",
       "      <td>1.568247</td>\n",
       "    </tr>\n",
       "    <tr>\n",
       "      <th>3</th>\n",
       "      <td>P02</td>\n",
       "      <td>Remember</td>\n",
       "      <td>1.933506</td>\n",
       "    </tr>\n",
       "    <tr>\n",
       "      <th>4</th>\n",
       "      <td>P02</td>\n",
       "      <td>Know</td>\n",
       "      <td>2.280415</td>\n",
       "    </tr>\n",
       "    <tr>\n",
       "      <th>...</th>\n",
       "      <td>...</td>\n",
       "      <td>...</td>\n",
       "      <td>...</td>\n",
       "    </tr>\n",
       "    <tr>\n",
       "      <th>132</th>\n",
       "      <td>P47</td>\n",
       "      <td>Know</td>\n",
       "      <td>2.570503</td>\n",
       "    </tr>\n",
       "    <tr>\n",
       "      <th>133</th>\n",
       "      <td>P47</td>\n",
       "      <td>Guess</td>\n",
       "      <td>2.642833</td>\n",
       "    </tr>\n",
       "    <tr>\n",
       "      <th>134</th>\n",
       "      <td>P48</td>\n",
       "      <td>Remember</td>\n",
       "      <td>1.460700</td>\n",
       "    </tr>\n",
       "    <tr>\n",
       "      <th>135</th>\n",
       "      <td>P48</td>\n",
       "      <td>Know</td>\n",
       "      <td>2.066510</td>\n",
       "    </tr>\n",
       "    <tr>\n",
       "      <th>136</th>\n",
       "      <td>P48</td>\n",
       "      <td>Guess</td>\n",
       "      <td>2.609239</td>\n",
       "    </tr>\n",
       "  </tbody>\n",
       "</table>\n",
       "<p>137 rows × 3 columns</p>\n",
       "</div>"
      ],
      "text/plain": [
       "    Subject ResponseType        RT\n",
       "0       P01     Remember  1.436146\n",
       "1       P01         Know  1.673217\n",
       "2       P01        Guess  1.568247\n",
       "3       P02     Remember  1.933506\n",
       "4       P02         Know  2.280415\n",
       "..      ...          ...       ...\n",
       "132     P47         Know  2.570503\n",
       "133     P47        Guess  2.642833\n",
       "134     P48     Remember  1.460700\n",
       "135     P48         Know  2.066510\n",
       "136     P48        Guess  2.609239\n",
       "\n",
       "[137 rows x 3 columns]"
      ]
     },
     "execution_count": 34,
     "metadata": {},
     "output_type": "execute_result"
    }
   ],
   "source": [
    "# Filter for hit trials only\n",
    "hit_trials = df[df['ItemRecogStatus'] == 'Hit']\n",
    "\n",
    "rkg_data = []\n",
    "for subject in hit_trials['Subject'].unique():\n",
    "    # Get data for this subject\n",
    "    subject_data = hit_trials[hit_trials['Subject'] == subject]\n",
    "    \n",
    "    # Calculate mean RT for each response type\n",
    "    for resp_type in ['Remember', 'Know', 'Guess']:\n",
    "        resp_data = subject_data[subject_data['ItemRecognResp'] == resp_type]\n",
    "        if len(resp_data) > 0:  \n",
    "            mean_rt = resp_data['idRespTime'].mean()\n",
    "            rkg_data.append({\n",
    "                'Subject': subject,\n",
    "                'ResponseType': resp_type,\n",
    "                'RT': mean_rt\n",
    "            })\n",
    "\n",
    "# Convert to DataFrame\n",
    "rkg_df = pd.DataFrame(rkg_data)\n",
    "rkg_df"
   ]
  },
  {
   "cell_type": "markdown",
   "id": "64a25689",
   "metadata": {},
   "source": [
    "For this analysis, I focused specifically on hit trials (correctly recognized old items) and examined how identification RTs vary across different subjective memory judgments:\n",
    "\n",
    "Remember (R): Items accompanied by conscious recollection of the study event<br>\n",
    "Know (K): Items recognized without conscious recollection of the study episode<br>\n",
    "Guess (G): Items where participants guessed they were old\n",
    "\n",
    "I extracted mean RTs for each subject and response type (R/K/G) and found that 43 subjects had data for all three response categories."
   ]
  },
  {
   "cell_type": "markdown",
   "id": "eab72e2d",
   "metadata": {},
   "source": [
    "### Run the one-way repeated ANOVA"
   ]
  },
  {
   "cell_type": "code",
   "execution_count": 35,
   "id": "3ab69b77",
   "metadata": {},
   "outputs": [
    {
     "data": {
      "text/html": [
       "<div>\n",
       "<style scoped>\n",
       "    .dataframe tbody tr th:only-of-type {\n",
       "        vertical-align: middle;\n",
       "    }\n",
       "\n",
       "    .dataframe tbody tr th {\n",
       "        vertical-align: top;\n",
       "    }\n",
       "\n",
       "    .dataframe thead th {\n",
       "        text-align: right;\n",
       "    }\n",
       "</style>\n",
       "<table border=\"1\" class=\"dataframe\">\n",
       "  <thead>\n",
       "    <tr style=\"text-align: right;\">\n",
       "      <th></th>\n",
       "      <th>Source</th>\n",
       "      <th>ddof1</th>\n",
       "      <th>ddof2</th>\n",
       "      <th>F</th>\n",
       "      <th>p-unc</th>\n",
       "      <th>ng2</th>\n",
       "      <th>eps</th>\n",
       "    </tr>\n",
       "  </thead>\n",
       "  <tbody>\n",
       "    <tr>\n",
       "      <th>0</th>\n",
       "      <td>ResponseType</td>\n",
       "      <td>2</td>\n",
       "      <td>84</td>\n",
       "      <td>10.3072</td>\n",
       "      <td>0.0001</td>\n",
       "      <td>0.0344</td>\n",
       "      <td>0.9488</td>\n",
       "    </tr>\n",
       "  </tbody>\n",
       "</table>\n",
       "</div>"
      ],
      "text/plain": [
       "         Source  ddof1  ddof2        F   p-unc     ng2     eps\n",
       "0  ResponseType      2     84  10.3072  0.0001  0.0344  0.9488"
      ]
     },
     "execution_count": 35,
     "metadata": {},
     "output_type": "execute_result"
    }
   ],
   "source": [
    "aov2 = pg.rm_anova(\n",
    "    data=rkg_df,\n",
    "    dv='RT',\n",
    "    within='ResponseType',\n",
    "    subject='Subject',\n",
    ").round(4)\n",
    "\n",
    "aov2"
   ]
  },
  {
   "cell_type": "markdown",
   "id": "0ec632e3",
   "metadata": {},
   "source": [
    "A one-way repeated-measures ANOVA revealed a significant main effect of response type on identification RTs F(2, 84) = 10.3072, p < 0.0001, η²p = 0.0344, indicating that the subjective memory experiences were associated with different levels of processing fluency."
   ]
  },
  {
   "cell_type": "markdown",
   "id": "6f219ef4",
   "metadata": {},
   "source": [
    "### Run post-hoc tests with Bonferroni correction"
   ]
  },
  {
   "cell_type": "code",
   "execution_count": 36,
   "id": "c5e408de",
   "metadata": {},
   "outputs": [
    {
     "data": {
      "text/html": [
       "<div>\n",
       "<style scoped>\n",
       "    .dataframe tbody tr th:only-of-type {\n",
       "        vertical-align: middle;\n",
       "    }\n",
       "\n",
       "    .dataframe tbody tr th {\n",
       "        vertical-align: top;\n",
       "    }\n",
       "\n",
       "    .dataframe thead th {\n",
       "        text-align: right;\n",
       "    }\n",
       "</style>\n",
       "<table border=\"1\" class=\"dataframe\">\n",
       "  <thead>\n",
       "    <tr style=\"text-align: right;\">\n",
       "      <th></th>\n",
       "      <th>Contrast</th>\n",
       "      <th>A</th>\n",
       "      <th>B</th>\n",
       "      <th>Paired</th>\n",
       "      <th>Parametric</th>\n",
       "      <th>T</th>\n",
       "      <th>dof</th>\n",
       "      <th>alternative</th>\n",
       "      <th>p-unc</th>\n",
       "      <th>p-corr</th>\n",
       "      <th>p-adjust</th>\n",
       "      <th>BF10</th>\n",
       "      <th>hedges</th>\n",
       "    </tr>\n",
       "  </thead>\n",
       "  <tbody>\n",
       "    <tr>\n",
       "      <th>0</th>\n",
       "      <td>ResponseType</td>\n",
       "      <td>Guess</td>\n",
       "      <td>Know</td>\n",
       "      <td>True</td>\n",
       "      <td>True</td>\n",
       "      <td>2.16</td>\n",
       "      <td>42.0</td>\n",
       "      <td>two-sided</td>\n",
       "      <td>0.04</td>\n",
       "      <td>0.11</td>\n",
       "      <td>bonf</td>\n",
       "      <td>1.344</td>\n",
       "      <td>0.20</td>\n",
       "    </tr>\n",
       "    <tr>\n",
       "      <th>1</th>\n",
       "      <td>ResponseType</td>\n",
       "      <td>Guess</td>\n",
       "      <td>Remember</td>\n",
       "      <td>True</td>\n",
       "      <td>True</td>\n",
       "      <td>4.12</td>\n",
       "      <td>42.0</td>\n",
       "      <td>two-sided</td>\n",
       "      <td>0.00</td>\n",
       "      <td>0.00</td>\n",
       "      <td>bonf</td>\n",
       "      <td>143.904</td>\n",
       "      <td>0.46</td>\n",
       "    </tr>\n",
       "    <tr>\n",
       "      <th>2</th>\n",
       "      <td>ResponseType</td>\n",
       "      <td>Know</td>\n",
       "      <td>Remember</td>\n",
       "      <td>True</td>\n",
       "      <td>True</td>\n",
       "      <td>2.67</td>\n",
       "      <td>42.0</td>\n",
       "      <td>two-sided</td>\n",
       "      <td>0.01</td>\n",
       "      <td>0.03</td>\n",
       "      <td>bonf</td>\n",
       "      <td>3.713</td>\n",
       "      <td>0.25</td>\n",
       "    </tr>\n",
       "  </tbody>\n",
       "</table>\n",
       "</div>"
      ],
      "text/plain": [
       "       Contrast      A         B  Paired  Parametric     T   dof alternative  \\\n",
       "0  ResponseType  Guess      Know    True        True  2.16  42.0   two-sided   \n",
       "1  ResponseType  Guess  Remember    True        True  4.12  42.0   two-sided   \n",
       "2  ResponseType   Know  Remember    True        True  2.67  42.0   two-sided   \n",
       "\n",
       "   p-unc  p-corr p-adjust     BF10  hedges  \n",
       "0   0.04    0.11     bonf    1.344    0.20  \n",
       "1   0.00    0.00     bonf  143.904    0.46  \n",
       "2   0.01    0.03     bonf    3.713    0.25  "
      ]
     },
     "execution_count": 36,
     "metadata": {},
     "output_type": "execute_result"
    }
   ],
   "source": [
    "posthoc1 = pg.pairwise_tests(\n",
    "    data=rkg_df,\n",
    "    dv='RT',\n",
    "    within='ResponseType',\n",
    "    subject='Subject',\n",
    "    padjust='bonf'\n",
    ").round(2)\n",
    "\n",
    "posthoc1"
   ]
  },
  {
   "cell_type": "markdown",
   "id": "221938aa",
   "metadata": {},
   "source": [
    "Post-hoc pairwise comparisons with Bonferroni correction showed significant differences between all three response types: Remember vs. Know t(42) = 2.67, p = 0.01, BF10 = 3.71, Remember vs. Guess t(42) = 4.12, p < 0.001, BF10 = 143.90, and Know vs. Guess t(42) = 2.16, p = 0.04, BF10 = 1.34."
   ]
  },
  {
   "cell_type": "markdown",
   "id": "5f8075e0",
   "metadata": {},
   "source": [
    "### Visualization"
   ]
  },
  {
   "cell_type": "code",
   "execution_count": 37,
   "id": "d2e8a74a",
   "metadata": {},
   "outputs": [],
   "source": [
    "# Prepare data for R/K/G responses\n",
    "order_rkg = ['remember', 'know', 'guess', 'new'] \n",
    "item_resp_map = {'Remember': 'remember', 'Know': 'know', 'Guess': 'guess', 'New': 'new'}\n",
    "\n",
    "# Use all new trials in the ItemRecognResp column\n",
    "new_trials = df[df['ItemRecognResp'] == 'New']\n",
    "\n",
    "means_list = []\n",
    "errors_list = []\n",
    "labels_list = []\n",
    "order_vals = []\n",
    "\n",
    "# Process R/K/G from hit trials\n",
    "for resp, category in item_resp_map.items():\n",
    "    if resp == 'New':\n",
    "        # Handle New responses separately\n",
    "        data = new_trials['idRespTime_ms']\n",
    "    else:\n",
    "        # Handle R/K/G from hit trials\n",
    "        data = hit_trials[hit_trials['ItemRecognResp'] == resp]['idRespTime_ms']\n",
    "    \n",
    "    if len(data) > 0:\n",
    "        means_list.append(data.mean())\n",
    "        errors_list.append(1.96 * stats.sem(data))\n",
    "        labels_list.append(category)\n",
    "        order_vals.append(order_rkg.index(category))\n",
    "\n",
    "# Sort by order values\n",
    "ordered_indices = np.argsort(order_vals)\n",
    "means_array = np.array(means_list)[ordered_indices]\n",
    "errors_array = np.array(errors_list)[ordered_indices]\n",
    "x_labels = [labels_list[i] for i in ordered_indices]"
   ]
  },
  {
   "cell_type": "code",
   "execution_count": 38,
   "id": "3f65ce18",
   "metadata": {},
   "outputs": [
    {
     "data": {
      "image/png": "[encoded data removed]",
      "text/plain": [
       "<Figure size 720x432 with 1 Axes>"
      ]
     },
     "metadata": {
      "needs_background": "light"
     },
     "output_type": "display_data"
    }
   ],
   "source": [
    "fig, ax = bar_plot(\n",
    "    means=means_array,\n",
    "    errors=errors_array,\n",
    "    x_labels=x_labels,\n",
    "    title='Figure 2(b): Mean identification RTs by response category',\n",
    "    xlabel='recognition judgement',\n",
    "    ylabel='mean RT (ms)',\n",
    "    filename='figure_2b.png',\n",
    "    y_range=(1000, 2000),\n",
    "    show_values=True,\n",
    "    show_error=True,\n",
    ")"
   ]
  },
  {
   "cell_type": "markdown",
   "id": "1c507509",
   "metadata": {},
   "source": [
    "The visualization of bar chart reproduces Figure 2(b) from the paper, showing mean identification RTs across the four response categories with 95% confidence intervals. The pattern shows a systematic increase in RTs from Remember to New judgments."
   ]
  },
  {
   "cell_type": "markdown",
   "id": "b87750ec",
   "metadata": {},
   "source": [
    "## Conclusion for Figure 2(b)\n",
    "The analysis confirms the findings from the paper, demonstrating a significant effect of subjective memory judgments on identification RTs. Items that participants subjectively experienced as \"remembered\" (with conscious recollection) were identified significantly faster than those they merely \"knew\" were familiar, which in turn were identified faster than those they \"guessed\" were old.\n",
    "This systematic gradient in identification RTs across R/K/G responses supports the relationship between processing fluency and different subjective states of memory. The strong Bayes Factor (BF10 = 143.90) for the Remember-Guess comparison indicates particularly substantial evidence for this difference.\n",
    "The results suggest that the subjective experience of remembering is associated with greater processing fluency than knowing or guessing, which aligns with theoretical accounts proposing that processing fluency contributes to both familiarity and recollection, albeit potentially to different degrees."
   ]
  },
  {
   "cell_type": "markdown",
   "id": "c8d156d9",
   "metadata": {},
   "source": [
    "## Source Memory Analysis"
   ]
  },
  {
   "cell_type": "markdown",
   "id": "ac0f178d",
   "metadata": {},
   "source": [
    "## Figure 3： Mean identification RTs (ms) for recognition hit trials with correct source judgements on both, one or none of the source dimensions in Experiment 1"
   ]
  },
  {
   "cell_type": "markdown",
   "id": "794c9c16",
   "metadata": {},
   "source": [
    "For this analysis, I examined how identification RTs vary based on the accuracy of source memory judgments for hit trials (correctly recognized old items). The categorized trials by the number of source dimensions (font size and location) correctly identified:\n",
    "\n",
    "Both correct: Trials where participants correctly identified both the font size and location; One correct: Trials where only one source dimension was correctly identified; Neither correct: Trials where neither source dimension was correctly identified\n",
    "\n",
    "My analysis first compared RT differences between correct and incorrect judgments for each source dimension separately, then examined the overall pattern across number of correct source dimensions."
   ]
  },
  {
   "cell_type": "markdown",
   "id": "33dd8e3e",
   "metadata": {},
   "source": [
    "### Calculate RT differences for size and location dimensions"
   ]
  },
  {
   "cell_type": "code",
   "execution_count": 39,
   "id": "c5974d38",
   "metadata": {},
   "outputs": [
    {
     "name": "stdout",
     "output_type": "stream",
     "text": [
      "Number of subjects with complete data: 48\n"
     ]
    }
   ],
   "source": [
    "rt_diff_data = []\n",
    "for subject in df['Subject'].unique():\n",
    "    subject_data = df[df['Subject'] == subject]\n",
    "    hit_trials = subject_data[subject_data['ItemRecogStatus'] == 'Hit']\n",
    "    \n",
    "    # Size dimension\n",
    "    size_correct = hit_trials[hit_trials['size_correct'] == 1]['idRespTime']\n",
    "    size_incorrect = hit_trials[hit_trials['size_correct'] == 0]['idRespTime']\n",
    "    if len(size_correct) > 0 and len(size_incorrect) > 0:\n",
    "        size_diff = size_correct.mean() - size_incorrect.mean()\n",
    "        size_diff_ms = size_diff * 1000\n",
    "    else:\n",
    "        size_diff_ms = np.nan\n",
    "        \n",
    "    # Location dimension\n",
    "    loc_correct = hit_trials[hit_trials['loc_correct'] == 1]['idRespTime']\n",
    "    loc_incorrect = hit_trials[hit_trials['loc_correct'] == 0]['idRespTime']\n",
    "    if len(loc_correct) > 0 and len(loc_incorrect) > 0:\n",
    "        loc_diff = loc_correct.mean() - loc_incorrect.mean()\n",
    "        loc_diff_ms = loc_diff * 1000\n",
    "    else:\n",
    "        loc_diff_ms = np.nan\n",
    "    \n",
    "    rt_diff_data.append({\n",
    "        'Subject': subject,\n",
    "        'SizeDiff': size_diff_ms,\n",
    "        'LocDiff': loc_diff_ms\n",
    "    })\n",
    "\n",
    "rt_diff_df = pd.DataFrame(rt_diff_data)\n",
    "print(\"Number of subjects with complete data:\", len(rt_diff_df))"
   ]
  },
  {
   "cell_type": "markdown",
   "id": "cceba3de",
   "metadata": {},
   "source": [
    "### Paired t-test comparing size vs location RT difference scores"
   ]
  },
  {
   "cell_type": "code",
   "execution_count": 40,
   "id": "701ded26",
   "metadata": {},
   "outputs": [
    {
     "data": {
      "text/html": [
       "<div>\n",
       "<style scoped>\n",
       "    .dataframe tbody tr th:only-of-type {\n",
       "        vertical-align: middle;\n",
       "    }\n",
       "\n",
       "    .dataframe tbody tr th {\n",
       "        vertical-align: top;\n",
       "    }\n",
       "\n",
       "    .dataframe thead th {\n",
       "        text-align: right;\n",
       "    }\n",
       "</style>\n",
       "<table border=\"1\" class=\"dataframe\">\n",
       "  <thead>\n",
       "    <tr style=\"text-align: right;\">\n",
       "      <th></th>\n",
       "      <th>T</th>\n",
       "      <th>dof</th>\n",
       "      <th>alternative</th>\n",
       "      <th>p-val</th>\n",
       "      <th>CI95%</th>\n",
       "      <th>cohen-d</th>\n",
       "      <th>BF10</th>\n",
       "      <th>power</th>\n",
       "    </tr>\n",
       "  </thead>\n",
       "  <tbody>\n",
       "    <tr>\n",
       "      <th>T-test</th>\n",
       "      <td>-0.590415</td>\n",
       "      <td>47</td>\n",
       "      <td>two-sided</td>\n",
       "      <td>0.557741</td>\n",
       "      <td>[-77.03, 42.07]</td>\n",
       "      <td>0.0613</td>\n",
       "      <td>0.185</td>\n",
       "      <td>0.070058</td>\n",
       "    </tr>\n",
       "  </tbody>\n",
       "</table>\n",
       "</div>"
      ],
      "text/plain": [
       "               T  dof alternative     p-val            CI95%  cohen-d   BF10  \\\n",
       "T-test -0.590415   47   two-sided  0.557741  [-77.03, 42.07]   0.0613  0.185   \n",
       "\n",
       "           power  \n",
       "T-test  0.070058  "
      ]
     },
     "execution_count": 40,
     "metadata": {},
     "output_type": "execute_result"
    }
   ],
   "source": [
    "ttest_result = pg.ttest(rt_diff_df['SizeDiff'], \n",
    "                       rt_diff_df['LocDiff'], \n",
    "                       paired=True)\n",
    "\n",
    "ttest_result"
   ]
  },
  {
   "cell_type": "markdown",
   "id": "47f93f90",
   "metadata": {},
   "source": [
    "The non-significant t-test result, t = -0.59, df = 47, p = 0.557, Cohen's d = 0.061, BF10 = 0.185, indicating there was no reliable difference between how quickly participants identified items with correct size source information compared to correct location source information."
   ]
  },
  {
   "cell_type": "code",
   "execution_count": 41,
   "id": "92f6bea6",
   "metadata": {},
   "outputs": [
    {
     "data": {
      "text/html": [
       "<div>\n",
       "<style scoped>\n",
       "    .dataframe tbody tr th:only-of-type {\n",
       "        vertical-align: middle;\n",
       "    }\n",
       "\n",
       "    .dataframe tbody tr th {\n",
       "        vertical-align: top;\n",
       "    }\n",
       "\n",
       "    .dataframe thead th {\n",
       "        text-align: right;\n",
       "    }\n",
       "</style>\n",
       "<table border=\"1\" class=\"dataframe\">\n",
       "  <thead>\n",
       "    <tr style=\"text-align: right;\">\n",
       "      <th></th>\n",
       "      <th>Dimension</th>\n",
       "      <th>Mean (ms)</th>\n",
       "      <th>SD (ms)</th>\n",
       "    </tr>\n",
       "  </thead>\n",
       "  <tbody>\n",
       "    <tr>\n",
       "      <th>0</th>\n",
       "      <td>Size</td>\n",
       "      <td>-98.789329</td>\n",
       "      <td>291.572431</td>\n",
       "    </tr>\n",
       "    <tr>\n",
       "      <th>1</th>\n",
       "      <td>Location</td>\n",
       "      <td>-81.312540</td>\n",
       "      <td>278.487132</td>\n",
       "    </tr>\n",
       "  </tbody>\n",
       "</table>\n",
       "</div>"
      ],
      "text/plain": [
       "  Dimension  Mean (ms)     SD (ms)\n",
       "0      Size -98.789329  291.572431\n",
       "1  Location -81.312540  278.487132"
      ]
     },
     "execution_count": 41,
     "metadata": {},
     "output_type": "execute_result"
    }
   ],
   "source": [
    "# Calculate descriptive statistics\n",
    "size_mean = rt_diff_df['SizeDiff'].mean()\n",
    "size_sd = rt_diff_df['SizeDiff'].std()\n",
    "loc_mean = rt_diff_df['LocDiff'].mean()\n",
    "loc_sd = rt_diff_df['LocDiff'].std()\n",
    "\n",
    "# Create a DataFrame for descriptive statistics\n",
    "desc_stats = pd.DataFrame({\n",
    "    'Dimension': ['Size', 'Location'],\n",
    "    'Mean (ms)': [size_mean, loc_mean],\n",
    "    'SD (ms)': [size_sd, loc_sd]\n",
    "})\n",
    "desc_stats"
   ]
  },
  {
   "cell_type": "markdown",
   "id": "f3e1d228",
   "metadata": {},
   "source": [
    "These negative values indicate that participants were faster at identifying items when they correctly remembered the source information compared to when they didn't. The size dimension shows a slightly larger effect (-98.79 ms) than the location dimension (-81.31 ms), though as the t-test showed, this difference is not statistically significant."
   ]
  },
  {
   "cell_type": "code",
   "execution_count": 42,
   "id": "71a189a7",
   "metadata": {},
   "outputs": [
    {
     "name": "stderr",
     "output_type": "stream",
     "text": [
      "C:\\Users\\LINZAN~1\\AppData\\Local\\Temp/ipykernel_21584/3429671866.py:2: FutureWarning: Series.__getitem__ treating keys as positions is deprecated. In a future version, integer keys will always be treated as labels (consistent with DataFrame behavior). To access a value by position, use `ser.iloc[pos]`\n",
      "  bf10 = pg.bayesfactor_ttest(ttest_result['T'][0], len(rt_diff_df), paired=True)\n"
     ]
    },
    {
     "data": {
      "text/plain": [
       "0.18493917293135376"
      ]
     },
     "execution_count": 42,
     "metadata": {},
     "output_type": "execute_result"
    }
   ],
   "source": [
    "# Calculate Bayes Factor\n",
    "bf10 = pg.bayesfactor_ttest(ttest_result['T'][0], len(rt_diff_df), paired=True)\n",
    "bf10"
   ]
  },
  {
   "cell_type": "markdown",
   "id": "7af962c4",
   "metadata": {},
   "source": [
    "This Bayesian analysis provides moderate evidence supporting the null hypothesis that there is no meaningful difference in how processing fluency (RTs) relates to source memory accuracy between the size and location dimensions. This aligns with the frequentist t-test result that showed no significant difference."
   ]
  },
  {
   "cell_type": "markdown",
   "id": "d81b82cc",
   "metadata": {},
   "source": [
    "### Prepare data for ANOVA on number of correct sources"
   ]
  },
  {
   "cell_type": "code",
   "execution_count": 43,
   "id": "1786a3a1",
   "metadata": {},
   "outputs": [
    {
     "data": {
      "text/html": [
       "<div>\n",
       "<style scoped>\n",
       "    .dataframe tbody tr th:only-of-type {\n",
       "        vertical-align: middle;\n",
       "    }\n",
       "\n",
       "    .dataframe tbody tr th {\n",
       "        vertical-align: top;\n",
       "    }\n",
       "\n",
       "    .dataframe thead th {\n",
       "        text-align: right;\n",
       "    }\n",
       "</style>\n",
       "<table border=\"1\" class=\"dataframe\">\n",
       "  <thead>\n",
       "    <tr style=\"text-align: right;\">\n",
       "      <th></th>\n",
       "      <th>Subject</th>\n",
       "      <th>NumCorrectSources</th>\n",
       "      <th>RT</th>\n",
       "    </tr>\n",
       "  </thead>\n",
       "  <tbody>\n",
       "    <tr>\n",
       "      <th>0</th>\n",
       "      <td>P01</td>\n",
       "      <td>0</td>\n",
       "      <td>1.581126</td>\n",
       "    </tr>\n",
       "    <tr>\n",
       "      <th>1</th>\n",
       "      <td>P01</td>\n",
       "      <td>1</td>\n",
       "      <td>1.503365</td>\n",
       "    </tr>\n",
       "    <tr>\n",
       "      <th>2</th>\n",
       "      <td>P01</td>\n",
       "      <td>2</td>\n",
       "      <td>1.654007</td>\n",
       "    </tr>\n",
       "    <tr>\n",
       "      <th>3</th>\n",
       "      <td>P02</td>\n",
       "      <td>0</td>\n",
       "      <td>1.993415</td>\n",
       "    </tr>\n",
       "    <tr>\n",
       "      <th>4</th>\n",
       "      <td>P02</td>\n",
       "      <td>1</td>\n",
       "      <td>1.925543</td>\n",
       "    </tr>\n",
       "    <tr>\n",
       "      <th>5</th>\n",
       "      <td>P02</td>\n",
       "      <td>2</td>\n",
       "      <td>1.839095</td>\n",
       "    </tr>\n",
       "    <tr>\n",
       "      <th>6</th>\n",
       "      <td>P03</td>\n",
       "      <td>0</td>\n",
       "      <td>1.037187</td>\n",
       "    </tr>\n",
       "    <tr>\n",
       "      <th>7</th>\n",
       "      <td>P03</td>\n",
       "      <td>1</td>\n",
       "      <td>1.317226</td>\n",
       "    </tr>\n",
       "    <tr>\n",
       "      <th>8</th>\n",
       "      <td>P04</td>\n",
       "      <td>0</td>\n",
       "      <td>1.332074</td>\n",
       "    </tr>\n",
       "    <tr>\n",
       "      <th>9</th>\n",
       "      <td>P04</td>\n",
       "      <td>1</td>\n",
       "      <td>1.422753</td>\n",
       "    </tr>\n",
       "  </tbody>\n",
       "</table>\n",
       "</div>"
      ],
      "text/plain": [
       "  Subject NumCorrectSources        RT\n",
       "0     P01                 0  1.581126\n",
       "1     P01                 1  1.503365\n",
       "2     P01                 2  1.654007\n",
       "3     P02                 0  1.993415\n",
       "4     P02                 1  1.925543\n",
       "5     P02                 2  1.839095\n",
       "6     P03                 0  1.037187\n",
       "7     P03                 1  1.317226\n",
       "8     P04                 0  1.332074\n",
       "9     P04                 1  1.422753"
      ]
     },
     "execution_count": 43,
     "metadata": {},
     "output_type": "execute_result"
    }
   ],
   "source": [
    "anova_data = []\n",
    "\n",
    "for subject in df['Subject'].unique():\n",
    "    subject_data = df[df['Subject'] == subject]\n",
    "    hit_trials = subject_data[subject_data['ItemRecogStatus'] == 'Hit']\n",
    "    \n",
    "    # Group by number of correct sources (0, 1, 2)\n",
    "    for num_correct in [0, 1, 2]:\n",
    "        trials = hit_trials[hit_trials['correct_sources'] == num_correct]\n",
    "        if len(trials) > 0:\n",
    "            mean_rt = trials['idRespTime'].mean()\n",
    "            anova_data.append({\n",
    "                'Subject': subject,\n",
    "                'NumCorrectSources': str(num_correct),  \n",
    "                'RT': mean_rt\n",
    "            })\n",
    "\n",
    "anova_df = pd.DataFrame(anova_data)\n",
    "anova_df.head(10)"
   ]
  },
  {
   "cell_type": "markdown",
   "id": "fbd795ce",
   "metadata": {},
   "source": [
    "### Run one-way repeated measures ANOVA"
   ]
  },
  {
   "cell_type": "code",
   "execution_count": 44,
   "id": "d59fbeea",
   "metadata": {},
   "outputs": [
    {
     "data": {
      "text/html": [
       "<div>\n",
       "<style scoped>\n",
       "    .dataframe tbody tr th:only-of-type {\n",
       "        vertical-align: middle;\n",
       "    }\n",
       "\n",
       "    .dataframe tbody tr th {\n",
       "        vertical-align: top;\n",
       "    }\n",
       "\n",
       "    .dataframe thead th {\n",
       "        text-align: right;\n",
       "    }\n",
       "</style>\n",
       "<table border=\"1\" class=\"dataframe\">\n",
       "  <thead>\n",
       "    <tr style=\"text-align: right;\">\n",
       "      <th></th>\n",
       "      <th>Source</th>\n",
       "      <th>ddof1</th>\n",
       "      <th>ddof2</th>\n",
       "      <th>F</th>\n",
       "      <th>p-unc</th>\n",
       "      <th>p-GG-corr</th>\n",
       "      <th>ng2</th>\n",
       "      <th>eps</th>\n",
       "      <th>sphericity</th>\n",
       "      <th>W-spher</th>\n",
       "      <th>p-spher</th>\n",
       "    </tr>\n",
       "  </thead>\n",
       "  <tbody>\n",
       "    <tr>\n",
       "      <th>0</th>\n",
       "      <td>NumCorrectSources</td>\n",
       "      <td>2</td>\n",
       "      <td>92</td>\n",
       "      <td>5.5003</td>\n",
       "      <td>0.0055</td>\n",
       "      <td>0.0127</td>\n",
       "      <td>0.0353</td>\n",
       "      <td>0.7128</td>\n",
       "      <td>False</td>\n",
       "      <td>0.597</td>\n",
       "      <td>0.0</td>\n",
       "    </tr>\n",
       "  </tbody>\n",
       "</table>\n",
       "</div>"
      ],
      "text/plain": [
       "              Source  ddof1  ddof2       F   p-unc  p-GG-corr     ng2     eps  \\\n",
       "0  NumCorrectSources      2     92  5.5003  0.0055     0.0127  0.0353  0.7128   \n",
       "\n",
       "   sphericity  W-spher  p-spher  \n",
       "0       False    0.597      0.0  "
      ]
     },
     "execution_count": 44,
     "metadata": {},
     "output_type": "execute_result"
    }
   ],
   "source": [
    "aov3 = pg.rm_anova(\n",
    "    data=anova_df,\n",
    "    dv='RT',\n",
    "    within='NumCorrectSources',\n",
    "    subject='Subject',\n",
    ").round(4)\n",
    "\n",
    "aov3"
   ]
  },
  {
   "cell_type": "markdown",
   "id": "fa650b6f",
   "metadata": {},
   "source": [
    "A one-way repeated-measures ANOVA with number of correct sources (0, 1, or 2) as the within-subjects factor and identification RT as the dependent variable. The analysis revealed a significant effect of source accuracy on identification speed, F(2, 92) = 5.50, p = 0.0055, η²p = 0.0353, demonstrating that the number of correctly remembered source dimensions is systematically related to processing fluency."
   ]
  },
  {
   "cell_type": "markdown",
   "id": "b143cd2d",
   "metadata": {},
   "source": [
    "### Run post-hoc pairwise comparisons"
   ]
  },
  {
   "cell_type": "code",
   "execution_count": 45,
   "id": "abce03b9",
   "metadata": {},
   "outputs": [
    {
     "name": "stderr",
     "output_type": "stream",
     "text": [
      "d:\\Ananconda\\lib\\site-packages\\pingouin\\pairwise.py:28: UserWarning: pairwise_ttests is deprecated, use pairwise_tests instead.\n",
      "  warnings.warn(\"pairwise_ttests is deprecated, use pairwise_tests instead.\", UserWarning)\n"
     ]
    },
    {
     "data": {
      "text/html": [
       "<div>\n",
       "<style scoped>\n",
       "    .dataframe tbody tr th:only-of-type {\n",
       "        vertical-align: middle;\n",
       "    }\n",
       "\n",
       "    .dataframe tbody tr th {\n",
       "        vertical-align: top;\n",
       "    }\n",
       "\n",
       "    .dataframe thead th {\n",
       "        text-align: right;\n",
       "    }\n",
       "</style>\n",
       "<table border=\"1\" class=\"dataframe\">\n",
       "  <thead>\n",
       "    <tr style=\"text-align: right;\">\n",
       "      <th></th>\n",
       "      <th>Contrast</th>\n",
       "      <th>A</th>\n",
       "      <th>B</th>\n",
       "      <th>Paired</th>\n",
       "      <th>Parametric</th>\n",
       "      <th>T</th>\n",
       "      <th>dof</th>\n",
       "      <th>alternative</th>\n",
       "      <th>p-unc</th>\n",
       "      <th>p-corr</th>\n",
       "      <th>p-adjust</th>\n",
       "      <th>BF10</th>\n",
       "      <th>hedges</th>\n",
       "    </tr>\n",
       "  </thead>\n",
       "  <tbody>\n",
       "    <tr>\n",
       "      <th>0</th>\n",
       "      <td>NumCorrectSources</td>\n",
       "      <td>0</td>\n",
       "      <td>1</td>\n",
       "      <td>True</td>\n",
       "      <td>True</td>\n",
       "      <td>2.7254</td>\n",
       "      <td>46.0</td>\n",
       "      <td>two-sided</td>\n",
       "      <td>0.0091</td>\n",
       "      <td>0.0272</td>\n",
       "      <td>bonf</td>\n",
       "      <td>4.188</td>\n",
       "      <td>0.2651</td>\n",
       "    </tr>\n",
       "    <tr>\n",
       "      <th>1</th>\n",
       "      <td>NumCorrectSources</td>\n",
       "      <td>0</td>\n",
       "      <td>2</td>\n",
       "      <td>True</td>\n",
       "      <td>True</td>\n",
       "      <td>2.6638</td>\n",
       "      <td>46.0</td>\n",
       "      <td>two-sided</td>\n",
       "      <td>0.0106</td>\n",
       "      <td>0.0318</td>\n",
       "      <td>bonf</td>\n",
       "      <td>3.653</td>\n",
       "      <td>0.4263</td>\n",
       "    </tr>\n",
       "    <tr>\n",
       "      <th>2</th>\n",
       "      <td>NumCorrectSources</td>\n",
       "      <td>1</td>\n",
       "      <td>2</td>\n",
       "      <td>True</td>\n",
       "      <td>True</td>\n",
       "      <td>1.4848</td>\n",
       "      <td>46.0</td>\n",
       "      <td>two-sided</td>\n",
       "      <td>0.1444</td>\n",
       "      <td>0.4332</td>\n",
       "      <td>bonf</td>\n",
       "      <td>0.44</td>\n",
       "      <td>0.2133</td>\n",
       "    </tr>\n",
       "  </tbody>\n",
       "</table>\n",
       "</div>"
      ],
      "text/plain": [
       "            Contrast  A  B  Paired  Parametric       T   dof alternative  \\\n",
       "0  NumCorrectSources  0  1    True        True  2.7254  46.0   two-sided   \n",
       "1  NumCorrectSources  0  2    True        True  2.6638  46.0   two-sided   \n",
       "2  NumCorrectSources  1  2    True        True  1.4848  46.0   two-sided   \n",
       "\n",
       "    p-unc  p-corr p-adjust   BF10  hedges  \n",
       "0  0.0091  0.0272     bonf  4.188  0.2651  \n",
       "1  0.0106  0.0318     bonf  3.653  0.4263  \n",
       "2  0.1444  0.4332     bonf   0.44  0.2133  "
      ]
     },
     "execution_count": 45,
     "metadata": {},
     "output_type": "execute_result"
    }
   ],
   "source": [
    "posthoc2 = pg.pairwise_ttests(\n",
    "    data=anova_df,\n",
    "    dv='RT',\n",
    "    within='NumCorrectSources',\n",
    "    subject='Subject',\n",
    "    padjust='bonf'\n",
    ").round(4)\n",
    "\n",
    "posthoc2"
   ]
  },
  {
   "cell_type": "markdown",
   "id": "96beb069",
   "metadata": {},
   "source": [
    "These analyses identify which specific pairs of conditions differed significantly, revealing that trials with both correct sources differed significantly from trials with neither correct, as did trials with one correct source versus neither correct. The results here are also consistent with the description in the paper."
   ]
  },
  {
   "cell_type": "markdown",
   "id": "27f2e937",
   "metadata": {},
   "source": [
    "### Visualization of Figure 3"
   ]
  },
  {
   "cell_type": "code",
   "execution_count": 46,
   "id": "be2d0b0a",
   "metadata": {},
   "outputs": [
    {
     "data": {
      "image/png": "[encoded data removed]",
      "text/plain": [
       "<Figure size 720x432 with 1 Axes>"
      ]
     },
     "metadata": {
      "needs_background": "light"
     },
     "output_type": "display_data"
    }
   ],
   "source": [
    "hit_trials = df[df['ItemRecogStatus'] == 'Hit']\n",
    "means_list = []\n",
    "errors_list = []\n",
    "x_labels = ['neither correct', 'one correct', 'both correct'] \n",
    "\n",
    "# Calculate means and errors for each condition\n",
    "for num_correct in [0, 1, 2]:\n",
    "    trials = hit_trials[hit_trials['correct_sources'] == num_correct]\n",
    "    \n",
    "    if len(trials) > 0:\n",
    "        # Calculate mean and standard error\n",
    "        mean_rt = trials['idRespTime_ms'].mean()\n",
    "        error = 1.96 * stats.sem(trials['idRespTime_ms'])\n",
    "        \n",
    "        # Append to lists\n",
    "        means_list.append(mean_rt)\n",
    "        errors_list.append(error)\n",
    "\n",
    "# Convert to numpy arrays\n",
    "means_array = np.array(means_list)\n",
    "errors_array = np.array(errors_list)\n",
    "\n",
    "# Reverse the order to match the paper's presentation (both, one, neither)\n",
    "means_array = means_array[::-1]\n",
    "errors_array = errors_array[::-1]\n",
    "x_labels = x_labels[::-1] \n",
    "\n",
    "#Create the plot\n",
    "fig, ax = bar_plot(\n",
    "    means=means_array,\n",
    "    errors=errors_array,\n",
    "    x_labels=x_labels,\n",
    "    title='Figure 3: Mean identification RTs for recognition hit trials by source accuracy',\n",
    "    xlabel='no. source dimensions correct',\n",
    "    ylabel='mean RT (ms)',\n",
    "    filename='figure_3.png',\n",
    "    y_range=(1000, 1800),\n",
    "    show_values=True,\n",
    "    show_error=True,\n",
    ")"
   ]
  },
  {
   "cell_type": "markdown",
   "id": "8b9beded",
   "metadata": {},
   "source": [
    "The figure 3 shows RTs increasing as source accuracy decreases: both correct, one correct, neither correct. This aligns with the paper's finding that identification is faster when source information is accurately remembered. This result is particularly important for the argument of this paper, which argues that fluency (measured by RTs) is related to source memory accuracy. This suggests that the retrieval of contextual details (source information) is associated with improved processing fluency."
   ]
  },
  {
   "cell_type": "markdown",
   "id": "73584326",
   "metadata": {},
   "source": [
    "## Conclusion for figure 3\n",
    "The analysis confirms the findings in the paper, showing that identification RTs decrease systematically as source memory accuracy increases. Trials with both sources correct showed the fastest identification times (1489.6 $\\pm$ 46.6 ms), followed by trials with one source correct (1530.6 $\\pm$ 40.2 ms), and trials with neither source correct had the slowest RTs (1623.7 $\\pm$ 43.9 ms).\n",
    "This pattern indicates that processing fluency (indexed by identification speed) is related to source memory accuracy. The significant differences between conditions, supported by moderate Bayes factors (BF10 > 3), suggest that familiarity-based processes may contribute to accurate source memory judgments. These findings challenge conventional dual-process accounts that assume source memory judgments rely exclusively on recollection."
   ]
  },
  {
   "cell_type": "markdown",
   "id": "062e69fe",
   "metadata": {},
   "source": [
    "## Table 1 - Source accuracy frequencies and confidence ratings"
   ]
  },
  {
   "cell_type": "markdown",
   "id": "cd5f2f24",
   "metadata": {},
   "source": [
    "###  Filter hit trials and prepare frequency data"
   ]
  },
  {
   "cell_type": "code",
   "execution_count": 47,
   "id": "3336c21e",
   "metadata": {},
   "outputs": [
    {
     "data": {
      "text/html": [
       "<div>\n",
       "<style scoped>\n",
       "    .dataframe tbody tr th:only-of-type {\n",
       "        vertical-align: middle;\n",
       "    }\n",
       "\n",
       "    .dataframe tbody tr th {\n",
       "        vertical-align: top;\n",
       "    }\n",
       "\n",
       "    .dataframe thead th {\n",
       "        text-align: right;\n",
       "    }\n",
       "</style>\n",
       "<table border=\"1\" class=\"dataframe\">\n",
       "  <thead>\n",
       "    <tr style=\"text-align: right;\">\n",
       "      <th>correct_sources</th>\n",
       "      <th>neither_source_correct</th>\n",
       "      <th>one_source_correct</th>\n",
       "      <th>both_sources_correct</th>\n",
       "    </tr>\n",
       "    <tr>\n",
       "      <th>ItemRecognResp</th>\n",
       "      <th></th>\n",
       "      <th></th>\n",
       "      <th></th>\n",
       "    </tr>\n",
       "  </thead>\n",
       "  <tbody>\n",
       "    <tr>\n",
       "      <th>Remember</th>\n",
       "      <td>412</td>\n",
       "      <td>510</td>\n",
       "      <td>509</td>\n",
       "    </tr>\n",
       "    <tr>\n",
       "      <th>Know</th>\n",
       "      <td>243</td>\n",
       "      <td>199</td>\n",
       "      <td>122</td>\n",
       "    </tr>\n",
       "    <tr>\n",
       "      <th>Guess</th>\n",
       "      <td>225</td>\n",
       "      <td>66</td>\n",
       "      <td>43</td>\n",
       "    </tr>\n",
       "  </tbody>\n",
       "</table>\n",
       "</div>"
      ],
      "text/plain": [
       "correct_sources  neither_source_correct  one_source_correct  \\\n",
       "ItemRecognResp                                                \n",
       "Remember                            412                 510   \n",
       "Know                                243                 199   \n",
       "Guess                               225                  66   \n",
       "\n",
       "correct_sources  both_sources_correct  \n",
       "ItemRecognResp                         \n",
       "Remember                          509  \n",
       "Know                              122  \n",
       "Guess                              43  "
      ]
     },
     "execution_count": 47,
     "metadata": {},
     "output_type": "execute_result"
    }
   ],
   "source": [
    "# Count frequencies by response type and number of correct sources\n",
    "freq_table = pd.crosstab(\n",
    "    hit_trials['ItemRecognResp'], \n",
    "    hit_trials['correct_sources']\n",
    ").rename(columns={0: 'neither_source_correct', 1: 'one_source_correct', 2: 'both_sources_correct'})\n",
    "\n",
    "# Reorder to match the paper\n",
    "if 'Remember' in freq_table.index and 'Know' in freq_table.index and 'Guess' in freq_table.index:\n",
    "    freq_table = freq_table.loc[['Remember', 'Know', 'Guess']]\n",
    "\n",
    "freq_table"
   ]
  },
  {
   "cell_type": "markdown",
   "id": "6bd3dc5b",
   "metadata": {},
   "source": [
    "It extracts hit trials (correctly recognized old items) and creates a cross-tabulation of response types (Remember/Know/Guess) against the number of correct source dimensions (0, 1, or 2). The resulting frequency table provides a clear view of how memory judgments relate to source accuracy, showing that Remember responses are more often associated with correct source information than Know or Guess responses."
   ]
  },
  {
   "cell_type": "markdown",
   "id": "e220a735",
   "metadata": {},
   "source": [
    "### Calculate confidence statistics"
   ]
  },
  {
   "cell_type": "code",
   "execution_count": 48,
   "id": "39a53cb4",
   "metadata": {},
   "outputs": [
    {
     "data": {
      "text/html": [
       "<div>\n",
       "<style scoped>\n",
       "    .dataframe tbody tr th:only-of-type {\n",
       "        vertical-align: middle;\n",
       "    }\n",
       "\n",
       "    .dataframe tbody tr th {\n",
       "        vertical-align: top;\n",
       "    }\n",
       "\n",
       "    .dataframe thead th {\n",
       "        text-align: right;\n",
       "    }\n",
       "</style>\n",
       "<table border=\"1\" class=\"dataframe\">\n",
       "  <thead>\n",
       "    <tr style=\"text-align: right;\">\n",
       "      <th></th>\n",
       "      <th>ResponseType</th>\n",
       "      <th>MeanConfidence</th>\n",
       "      <th>CI_Lower</th>\n",
       "      <th>CI_Upper</th>\n",
       "    </tr>\n",
       "  </thead>\n",
       "  <tbody>\n",
       "    <tr>\n",
       "      <th>0</th>\n",
       "      <td>Remember</td>\n",
       "      <td>3.994410</td>\n",
       "      <td>3.862462</td>\n",
       "      <td>4.126357</td>\n",
       "    </tr>\n",
       "    <tr>\n",
       "      <th>1</th>\n",
       "      <td>Know</td>\n",
       "      <td>2.593972</td>\n",
       "      <td>2.423359</td>\n",
       "      <td>2.764585</td>\n",
       "    </tr>\n",
       "    <tr>\n",
       "      <th>2</th>\n",
       "      <td>Guess</td>\n",
       "      <td>1.293413</td>\n",
       "      <td>1.116979</td>\n",
       "      <td>1.469847</td>\n",
       "    </tr>\n",
       "  </tbody>\n",
       "</table>\n",
       "</div>"
      ],
      "text/plain": [
       "  ResponseType  MeanConfidence  CI_Lower  CI_Upper\n",
       "0     Remember        3.994410  3.862462  4.126357\n",
       "1         Know        2.593972  2.423359  2.764585\n",
       "2        Guess        1.293413  1.116979  1.469847"
      ]
     },
     "execution_count": 48,
     "metadata": {},
     "output_type": "execute_result"
    }
   ],
   "source": [
    "conf_stats = []\n",
    "\n",
    "for resp_type in ['Remember', 'Know', 'Guess']:\n",
    "    if resp_type in hit_trials['ItemRecognResp'].unique():\n",
    "        conf_values = hit_trials[hit_trials['ItemRecognResp'] == resp_type]['SourceConfidence_absSum']\n",
    "        mean_conf = conf_values.mean()\n",
    "        conf_sem = conf_values.sem()\n",
    "        ci_lower = mean_conf - (1.96 * conf_sem)\n",
    "        ci_upper = mean_conf + (1.96 * conf_sem)\n",
    "        conf_stats.append({\n",
    "            'ResponseType': resp_type,\n",
    "            'MeanConfidence': mean_conf,\n",
    "            'CI_Lower': ci_lower,\n",
    "            'CI_Upper': ci_upper\n",
    "        })\n",
    "\n",
    "conf_df = pd.DataFrame(conf_stats)\n",
    "conf_df"
   ]
  },
  {
   "cell_type": "markdown",
   "id": "55457b21",
   "metadata": {},
   "source": [
    "By analyzing the absolute sum of confidence ratings across source dimensions, participants' subjective certainty in their judgments can be quantified. This suggests that Remember responses are associated with the highest confidence, followed by Know and then Guess responses."
   ]
  },
  {
   "cell_type": "markdown",
   "id": "e797bb71",
   "metadata": {},
   "source": [
    "### Create a formatted Table 1 to match the paper"
   ]
  },
  {
   "cell_type": "code",
   "execution_count": 49,
   "id": "2d77f509",
   "metadata": {},
   "outputs": [
    {
     "data": {
      "text/html": [
       "<div>\n",
       "<style scoped>\n",
       "    .dataframe tbody tr th:only-of-type {\n",
       "        vertical-align: middle;\n",
       "    }\n",
       "\n",
       "    .dataframe tbody tr th {\n",
       "        vertical-align: top;\n",
       "    }\n",
       "\n",
       "    .dataframe thead th {\n",
       "        text-align: right;\n",
       "    }\n",
       "</style>\n",
       "<table border=\"1\" class=\"dataframe\">\n",
       "  <thead>\n",
       "    <tr style=\"text-align: right;\">\n",
       "      <th></th>\n",
       "      <th>Response Type</th>\n",
       "      <th>Both Sources Correct</th>\n",
       "      <th>One Source Correct</th>\n",
       "      <th>Neither Source Correct</th>\n",
       "      <th>Mean Summed Confidence</th>\n",
       "    </tr>\n",
       "  </thead>\n",
       "  <tbody>\n",
       "    <tr>\n",
       "      <th>0</th>\n",
       "      <td>remember</td>\n",
       "      <td>509</td>\n",
       "      <td>510</td>\n",
       "      <td>412</td>\n",
       "      <td>3.99 (3.86, 4.13)</td>\n",
       "    </tr>\n",
       "    <tr>\n",
       "      <th>1</th>\n",
       "      <td>know</td>\n",
       "      <td>122</td>\n",
       "      <td>199</td>\n",
       "      <td>243</td>\n",
       "      <td>2.59 (2.42, 2.76)</td>\n",
       "    </tr>\n",
       "    <tr>\n",
       "      <th>2</th>\n",
       "      <td>guess</td>\n",
       "      <td>43</td>\n",
       "      <td>66</td>\n",
       "      <td>225</td>\n",
       "      <td>1.29 (1.12, 1.47)</td>\n",
       "    </tr>\n",
       "  </tbody>\n",
       "</table>\n",
       "</div>"
      ],
      "text/plain": [
       "  Response Type  Both Sources Correct  One Source Correct  \\\n",
       "0      remember                   509                 510   \n",
       "1          know                   122                 199   \n",
       "2         guess                    43                  66   \n",
       "\n",
       "   Neither Source Correct Mean Summed Confidence  \n",
       "0                     412      3.99 (3.86, 4.13)  \n",
       "1                     243      2.59 (2.42, 2.76)  \n",
       "2                     225      1.29 (1.12, 1.47)  "
      ]
     },
     "execution_count": 49,
     "metadata": {},
     "output_type": "execute_result"
    }
   ],
   "source": [
    "table_data = []\n",
    "\n",
    "for resp_type in ['Remember', 'Know', 'Guess']:\n",
    "    if resp_type in freq_table.index:\n",
    "        both = freq_table.loc[resp_type, 'both_sources_correct'] if 'both_sources_correct' in freq_table.columns else 0\n",
    "        one = freq_table.loc[resp_type, 'one_source_correct'] if 'one_source_correct' in freq_table.columns else 0\n",
    "        neither = freq_table.loc[resp_type, 'neither_source_correct'] if 'neither_source_correct' in freq_table.columns else 0\n",
    "        \n",
    "        conf_row = conf_df[conf_df['ResponseType'] == resp_type]\n",
    "        if not conf_row.empty:\n",
    "            mean_conf = conf_row['MeanConfidence'].values[0]\n",
    "            ci_lower = conf_row['CI_Lower'].values[0]\n",
    "            ci_upper = conf_row['CI_Upper'].values[0]\n",
    "            \n",
    "            table_data.append({\n",
    "                'Response Type': resp_type.lower(),\n",
    "                'Both Sources Correct': int(both),\n",
    "                'One Source Correct': int(one),\n",
    "                'Neither Source Correct': int(neither),\n",
    "                'Mean Summed Confidence': f\"{mean_conf:.2f} ({ci_lower:.2f}, {ci_upper:.2f})\"\n",
    "            })\n",
    "\n",
    "# Create the formatted table 1\n",
    "table_1 = pd.DataFrame(table_data)\n",
    "table_1"
   ]
  },
  {
   "cell_type": "markdown",
   "id": "83eb6dbc",
   "metadata": {},
   "source": [
    "This cell organizes the frequency data and confidence statistics into a properly formatted table matching the paper's presentation. The table clearly displays both the distribution of source accuracy across response types and the corresponding confidence ratings, making it easy to observe the overall relationship between subjective experience, source accuracy, and confidence."
   ]
  },
  {
   "cell_type": "markdown",
   "id": "ea7f66e4",
   "metadata": {},
   "source": [
    "### Prepare data for ANOVA"
   ]
  },
  {
   "cell_type": "code",
   "execution_count": 50,
   "id": "66cfd3f8",
   "metadata": {},
   "outputs": [
    {
     "data": {
      "text/plain": [
       "43"
      ]
     },
     "execution_count": 50,
     "metadata": {},
     "output_type": "execute_result"
    }
   ],
   "source": [
    "anova_data = []\n",
    "\n",
    "for subject in hit_trials['Subject'].unique():\n",
    "    # Get data for this subject\n",
    "    subject_data = hit_trials[hit_trials['Subject'] == subject]\n",
    "    \n",
    "    # Calculate mean confidence for each response type\n",
    "    for resp_type in ['Remember', 'Know', 'Guess']:\n",
    "        resp_data = subject_data[subject_data['ItemRecognResp'] == resp_type]\n",
    "        if len(resp_data) > 0: \n",
    "            mean_conf = resp_data['SourceConfidence_absSum'].mean()\n",
    "            anova_data.append({\n",
    "                'Subject': subject,\n",
    "                'ResponseType': resp_type,\n",
    "                'Confidence': mean_conf\n",
    "            })\n",
    "\n",
    "# Convert to DataFrame\n",
    "anova_df = pd.DataFrame(anova_data)\n",
    "\n",
    "# Check how many subjects have data for all three response types （R/G/K）\n",
    "response_counts = anova_df.groupby('Subject').size()\n",
    "complete_subjects = response_counts[response_counts == 3].index\n",
    "complete_subject_count = len(complete_subjects)\n",
    "\n",
    "# Keep only subjects with complete data\n",
    "anova_df_balanced = anova_df[anova_df['Subject'].isin(complete_subjects)]\n",
    "\n",
    "# Display the count of subjects with complete data\n",
    "complete_subject_count"
   ]
  },
  {
   "cell_type": "markdown",
   "id": "3a545e6e",
   "metadata": {},
   "source": [
    "### Run one-way repeated-measures ANOVA"
   ]
  },
  {
   "cell_type": "code",
   "execution_count": 51,
   "id": "d42738b1",
   "metadata": {},
   "outputs": [
    {
     "data": {
      "text/html": [
       "<div>\n",
       "<style scoped>\n",
       "    .dataframe tbody tr th:only-of-type {\n",
       "        vertical-align: middle;\n",
       "    }\n",
       "\n",
       "    .dataframe tbody tr th {\n",
       "        vertical-align: top;\n",
       "    }\n",
       "\n",
       "    .dataframe thead th {\n",
       "        text-align: right;\n",
       "    }\n",
       "</style>\n",
       "<table border=\"1\" class=\"dataframe\">\n",
       "  <thead>\n",
       "    <tr style=\"text-align: right;\">\n",
       "      <th></th>\n",
       "      <th>Source</th>\n",
       "      <th>ddof1</th>\n",
       "      <th>ddof2</th>\n",
       "      <th>F</th>\n",
       "      <th>p-unc</th>\n",
       "      <th>p-GG-corr</th>\n",
       "      <th>ng2</th>\n",
       "      <th>eps</th>\n",
       "      <th>sphericity</th>\n",
       "      <th>W-spher</th>\n",
       "      <th>p-spher</th>\n",
       "    </tr>\n",
       "  </thead>\n",
       "  <tbody>\n",
       "    <tr>\n",
       "      <th>0</th>\n",
       "      <td>ResponseType</td>\n",
       "      <td>2</td>\n",
       "      <td>84</td>\n",
       "      <td>73.1084</td>\n",
       "      <td>0.0</td>\n",
       "      <td>0.0</td>\n",
       "      <td>0.4192</td>\n",
       "      <td>0.8521</td>\n",
       "      <td>False</td>\n",
       "      <td>0.8264</td>\n",
       "      <td>0.0201</td>\n",
       "    </tr>\n",
       "  </tbody>\n",
       "</table>\n",
       "</div>"
      ],
      "text/plain": [
       "         Source  ddof1  ddof2        F  p-unc  p-GG-corr     ng2     eps  \\\n",
       "0  ResponseType      2     84  73.1084    0.0        0.0  0.4192  0.8521   \n",
       "\n",
       "   sphericity  W-spher  p-spher  \n",
       "0       False   0.8264   0.0201  "
      ]
     },
     "execution_count": 51,
     "metadata": {},
     "output_type": "execute_result"
    }
   ],
   "source": [
    "aov4 = pg.rm_anova(\n",
    "    data=anova_df_balanced,\n",
    "    dv='Confidence',\n",
    "    within='ResponseType',\n",
    "    subject='Subject'\n",
    ")\n",
    "\n",
    "aov4.round(4)"
   ]
  },
  {
   "cell_type": "markdown",
   "id": "db0a48f2",
   "metadata": {},
   "source": [
    "The highly significant result F(2, 84) = 73.11, p < 0.0001, η²p = 0.42, confirmed that confidence ratings differ substantially across Remember, Know, and Guess responses. This result provided statistical support for the gradient observed in the descriptive data."
   ]
  },
  {
   "cell_type": "markdown",
   "id": "1e311c57",
   "metadata": {},
   "source": [
    "### Run post-hoc tests"
   ]
  },
  {
   "cell_type": "code",
   "execution_count": 52,
   "id": "6ea386c7",
   "metadata": {},
   "outputs": [
    {
     "name": "stderr",
     "output_type": "stream",
     "text": [
      "C:\\Users\\LINZAN~1\\AppData\\Local\\Temp/ipykernel_21584/2349026109.py:19: FutureWarning: Series.__getitem__ treating keys as positions is deprecated. In a future version, integer keys will always be treated as labels (consistent with DataFrame behavior). To access a value by position, use `ser.iloc[pos]`\n",
      "  bf10_rk = pg.bayesfactor_ttest(rk_ttest['T'][0], len(complete_subjects), paired=True)\n",
      "C:\\Users\\LINZAN~1\\AppData\\Local\\Temp/ipykernel_21584/2349026109.py:20: FutureWarning: Series.__getitem__ treating keys as positions is deprecated. In a future version, integer keys will always be treated as labels (consistent with DataFrame behavior). To access a value by position, use `ser.iloc[pos]`\n",
      "  bf10_kg = pg.bayesfactor_ttest(kg_ttest['T'][0], len(complete_subjects), paired=True)\n",
      "C:\\Users\\LINZAN~1\\AppData\\Local\\Temp/ipykernel_21584/2349026109.py:21: FutureWarning: Series.__getitem__ treating keys as positions is deprecated. In a future version, integer keys will always be treated as labels (consistent with DataFrame behavior). To access a value by position, use `ser.iloc[pos]`\n",
      "  bf10_rg = pg.bayesfactor_ttest(rg_ttest['T'][0], len(complete_subjects), paired=True)\n",
      "C:\\Users\\LINZAN~1\\AppData\\Local\\Temp/ipykernel_21584/2349026109.py:26: FutureWarning: Series.__getitem__ treating keys as positions is deprecated. In a future version, integer keys will always be treated as labels (consistent with DataFrame behavior). To access a value by position, use `ser.iloc[pos]`\n",
      "  'T-value': [rk_ttest['T'][0], kg_ttest['T'][0], rg_ttest['T'][0]],\n",
      "C:\\Users\\LINZAN~1\\AppData\\Local\\Temp/ipykernel_21584/2349026109.py:27: FutureWarning: Series.__getitem__ treating keys as positions is deprecated. In a future version, integer keys will always be treated as labels (consistent with DataFrame behavior). To access a value by position, use `ser.iloc[pos]`\n",
      "  'df': [rk_ttest['dof'][0], kg_ttest['dof'][0], rg_ttest['dof'][0]],\n",
      "C:\\Users\\LINZAN~1\\AppData\\Local\\Temp/ipykernel_21584/2349026109.py:28: FutureWarning: Series.__getitem__ treating keys as positions is deprecated. In a future version, integer keys will always be treated as labels (consistent with DataFrame behavior). To access a value by position, use `ser.iloc[pos]`\n",
      "  'p-value': [rk_ttest['p-val'][0] * 3, kg_ttest['p-val'][0] * 3, rg_ttest['p-val'][0] * 3],  # Bonferroni correction\n"
     ]
    },
    {
     "data": {
      "text/html": [
       "<div>\n",
       "<style scoped>\n",
       "    .dataframe tbody tr th:only-of-type {\n",
       "        vertical-align: middle;\n",
       "    }\n",
       "\n",
       "    .dataframe tbody tr th {\n",
       "        vertical-align: top;\n",
       "    }\n",
       "\n",
       "    .dataframe thead th {\n",
       "        text-align: right;\n",
       "    }\n",
       "</style>\n",
       "<table border=\"1\" class=\"dataframe\">\n",
       "  <thead>\n",
       "    <tr style=\"text-align: right;\">\n",
       "      <th></th>\n",
       "      <th>Comparison</th>\n",
       "      <th>T-value</th>\n",
       "      <th>df</th>\n",
       "      <th>p-value</th>\n",
       "      <th>Cohen's d</th>\n",
       "      <th>BF10</th>\n",
       "    </tr>\n",
       "  </thead>\n",
       "  <tbody>\n",
       "    <tr>\n",
       "      <th>0</th>\n",
       "      <td>Remember vs Know</td>\n",
       "      <td>6.069102</td>\n",
       "      <td>42</td>\n",
       "      <td>0.000001</td>\n",
       "      <td>1.130294</td>\n",
       "      <td>4.944714e+04</td>\n",
       "    </tr>\n",
       "    <tr>\n",
       "      <th>1</th>\n",
       "      <td>Know vs Guess</td>\n",
       "      <td>5.194947</td>\n",
       "      <td>42</td>\n",
       "      <td>0.000017</td>\n",
       "      <td>0.841999</td>\n",
       "      <td>3.363812e+03</td>\n",
       "    </tr>\n",
       "    <tr>\n",
       "      <th>2</th>\n",
       "      <td>Remember vs Guess</td>\n",
       "      <td>14.017758</td>\n",
       "      <td>42</td>\n",
       "      <td>0.000000</td>\n",
       "      <td>2.175839</td>\n",
       "      <td>2.874800e+14</td>\n",
       "    </tr>\n",
       "  </tbody>\n",
       "</table>\n",
       "</div>"
      ],
      "text/plain": [
       "          Comparison    T-value  df   p-value  Cohen's d          BF10\n",
       "0   Remember vs Know   6.069102  42  0.000001   1.130294  4.944714e+04\n",
       "1      Know vs Guess   5.194947  42  0.000017   0.841999  3.363812e+03\n",
       "2  Remember vs Guess  14.017758  42  0.000000   2.175839  2.874800e+14"
      ]
     },
     "execution_count": 52,
     "metadata": {},
     "output_type": "execute_result"
    }
   ],
   "source": [
    "# R vs K comparison\n",
    "r_data = anova_df_balanced[anova_df_balanced['ResponseType'] == 'Remember']['Confidence']\n",
    "k_data = anova_df_balanced[anova_df_balanced['ResponseType'] == 'Know']['Confidence']\n",
    "rk_ttest = pg.ttest(r_data, k_data, paired=True)\n",
    "\n",
    "# K vs G comparison\n",
    "g_data = anova_df_balanced[anova_df_balanced['ResponseType'] == 'Guess']['Confidence']\n",
    "kg_ttest = pg.ttest(k_data, g_data, paired=True)\n",
    "\n",
    "# R vs G comparison\n",
    "rg_ttest = pg.ttest(r_data, g_data, paired=True)\n",
    "\n",
    "# Calculate effect sizes\n",
    "d_rk = (r_data.mean() - k_data.mean()) / np.sqrt((r_data.var() + k_data.var()) / 2)\n",
    "d_kg = (k_data.mean() - g_data.mean()) / np.sqrt((k_data.var() + g_data.var()) / 2)\n",
    "d_rg = (r_data.mean() - g_data.mean()) / np.sqrt((r_data.var() + g_data.var()) / 2) \n",
    "\n",
    "# Calculate Bayes Factors\n",
    "bf10_rk = pg.bayesfactor_ttest(rk_ttest['T'][0], len(complete_subjects), paired=True)\n",
    "bf10_kg = pg.bayesfactor_ttest(kg_ttest['T'][0], len(complete_subjects), paired=True)\n",
    "bf10_rg = pg.bayesfactor_ttest(rg_ttest['T'][0], len(complete_subjects), paired=True) \n",
    "\n",
    "# Create a summary table of post-hoc tests\n",
    "posthoc3 = pd.DataFrame({\n",
    "    'Comparison': ['Remember vs Know', 'Know vs Guess', 'Remember vs Guess'],  \n",
    "    'T-value': [rk_ttest['T'][0], kg_ttest['T'][0], rg_ttest['T'][0]], \n",
    "    'df': [rk_ttest['dof'][0], kg_ttest['dof'][0], rg_ttest['dof'][0]], \n",
    "    'p-value': [rk_ttest['p-val'][0] * 3, kg_ttest['p-val'][0] * 3, rg_ttest['p-val'][0] * 3],  # Bonferroni correction\n",
    "    'Cohen\\'s d': [d_rk, d_kg, d_rg],  \n",
    "    'BF10': [bf10_rk, bf10_kg, bf10_rg]  \n",
    "})\n",
    "\n",
    "posthoc3.round(6)"
   ]
  },
  {
   "cell_type": "markdown",
   "id": "6e76ceb3",
   "metadata": {},
   "source": [
    "The results show strong evidence for differences between all pairs, with the Remember vs. Guess comparison showing the most dramatic difference t(42) = 14.02, p < 0.00001, d = 2.18, BF10 = 2.87e+14. The extremely large Bayes factor for this comparison (over 287 trillion) indicates overwhelming evidence for the difference between Remember and Guess confidence ratings. The Remember vs. Know comparison also shows substantial evidence (BF10 = 49,447), while the Know vs. Guess comparison shows strong but comparatively smaller evidence (BF10 = 3,364). These results establish a clear hierarchical relationship in confidence ratings across the three response types."
   ]
  },
  {
   "cell_type": "markdown",
   "id": "624f66da",
   "metadata": {},
   "source": [
    "## Conclusion of table 1\n",
    "The analysis successfully replicates Table 1, demonstrating a clear relationship between subjective memory judgments, source accuracy, and confidence ratings. The data reveal three key findings:\n",
    "First, source memory accuracy varies systematically across response types. Remember responses were associated with higher source accuracy (509 trials with both sources correct) compared to Know responses (122 trials with both sources correct) and Guess responses (43 trials with both sources correct). This pattern supports the view that subjective experiences of remembering are associated with better source memory than knowing or guessing.\n",
    "Second, confidence ratings showed a similar gradient across response types, with Remember responses receiving the highest confidence ratings (M = 3.99), followed by Know responses (M = 2.59), and Guess responses (M = 1.29). The ANOVA confirmed these differences were highly significant F(2, 84) = 73.11, p < 0.0001, η²p = 0.42.\n",
    "Third, post-hoc comparisons revealed significant differences between all response types, with particularly strong evidence for the difference between Remember and Guess responses (BF10 = 2.87e+14). This extraordinarily large Bayes factor provides overwhelming evidence that Remember and Guess responses represent distinct subjective states that differ substantially in confidence."
   ]
  },
  {
   "cell_type": "markdown",
   "id": "7c709e77",
   "metadata": {},
   "source": [
    "## Discussion"
   ]
  },
  {
   "cell_type": "markdown",
   "id": "32416a29",
   "metadata": {},
   "source": [
    "The replication of Experiment 1 from Huang & Shanks (2021) provides evidence for the relationship between processing fluency and memory for source information. Through analyses of identification reaction times, subjective memory judgments, and source accuracy, several key findings obtained. First, identification RTs systematically vary with recognition judgments, being fastest for hits and progressively slower for misses, false alarms, and correct rejections. Second, when examining subjective memory experiences, a clear gradient in identification speed was observed across Remember, Know, and Guess responses, suggesting that processing fluency correlates with the phenomenological experience of remembering. Third, source memory accuracy was directly related to processing fluency, with faster identification times for trials with correctly remembered source information compared to trials with incorrect source judgments.\n",
    "\n",
    "These findings challenge conventional dual-process accounts that assume source memory judgments rely exclusively on recollection processes. Instead, the results support familiarity-based processes (reflected in processing fluency) contribute to source memory judgments. The significant relationships between identification speed, source accuracy, and subjective confidence ratings suggest that the memory system's operation may be better characterized by a continuous signal detection approach rather than by discrete, independent processes. This perspective aligns with recently theoretical accounts proposing that familiarity and recollection may operate along a continuum of memory strength rather than as qualitatively distinct systems."
   ]
  }
 ],
 "metadata": {
  "kernelspec": {
   "display_name": "base",
   "language": "python",
   "name": "python3"
  },
  "language_info": {
   "codemirror_mode": {
    "name": "ipython",
    "version": 3
   },
   "file_extension": ".py",
   "mimetype": "text/x-python",
   "name": "python",
   "nbconvert_exporter": "python",
   "pygments_lexer": "ipython3",
   "version": "3.9.7"
  }
 },
 "nbformat": 4,
 "nbformat_minor": 5
}
